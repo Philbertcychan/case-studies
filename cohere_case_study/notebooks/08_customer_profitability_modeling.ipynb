{
 "cells": [
  {
   "cell_type": "markdown",
   "id": "e0332174-42cb-4fb2-9f86-e0d658e3a5f1",
   "metadata": {},
   "source": [
    "# 📊 Customer Profitability Modeling\n",
    "\n",
    "## 🧠 Objective\n",
    "\n",
    "The goal of this notebook is to estimate and analyze customer profitability for an AI infrastructure company like Cohere.\n",
    "\n",
    "We will:\n",
    "\n",
    "- Segment customers into cohorts based on observable traits (industry, size, geography, etc.)\n",
    "- Estimate **Customer Lifetime Value (CLTV)** per cohort\n",
    "- Estimate **Customer Acquisition Cost (CAC)** per cohort\n",
    "- Analyze **CLTV:CAC ratio** to determine strategic efficiency\n",
    "- Recommend which cohorts to target or deprioritize\n",
    "\n",
    "This analysis supports strategic decisions around:\n",
    "- Sales & marketing focus\n",
    "- Product prioritization\n",
    "- Go-to-market efficiency\n"
   ]
  },
  {
   "cell_type": "code",
   "execution_count": null,
   "id": "5ceb36ce-710e-4a64-a223-fbcf23a31081",
   "metadata": {},
   "outputs": [],
   "source": [
    "## 🔧 Section 2: Data Setup & Imports\n",
    "\n",
    "To perform our customer profitability analysis, we'll start by importing standard Python libraries and creating a mock dataset to simulate different customer segments and financial metrics.\n",
    "\n",
    "We'll model:\n",
    "- Customer segments (e.g., startup, enterprise, gov)\n",
    "- Revenue per customer over time\n",
    "- Gross margin assumptions\n",
    "- Acquisition cost estimates\n"
   ]
  },
  {
   "cell_type": "code",
   "execution_count": null,
   "id": "28208efb-c4c0-453b-8836-0951ebdec4ce",
   "metadata": {},
   "outputs": [],
   "source": [
    "import pandas as pd\n",
    "import numpy as np\n",
    "import matplotlib.pyplot as plt\n",
    "import seaborn as sns\n",
    "\n",
    "# For consistent visuals\n",
    "sns.set(style=\"whitegrid\")\n",
    "\n",
    "# Random seed for reproducibility\n",
    "np.random.seed(42)\n",
    "\n",
    "# Simulate 150 customers across 3 segments\n",
    "n_customers = 150\n",
    "segments = ['Startup', 'Enterprise', 'Government']\n",
    "\n",
    "data = {\n",
    "    'Customer_ID': range(1, n_customers + 1),\n",
    "    'Segment': np.random.choice(segments, size=n_customers, p=[0.5, 0.3, 0.2]),\n",
    "    'Annual_Revenue': np.random.normal(loc=100000, scale=30000, size=n_customers).round(2),\n",
    "    'Gross_Margin': np.random.uniform(0.6, 0.85, size=n_customers).round(2),\n",
    "    'CAC': np.random.normal(loc=20000, scale=5000, size=n_customers).round(2),\n",
    "    'Retention_Years': np.random.randint(1, 6, size=n_customers)  # Simulate 1 to 5 years\n",
    "}\n",
    "\n",
    "df = pd.DataFrame(data)\n",
    "\n",
    "# Clean any negative or weird values\n",
    "df['Annual_Revenue'] = df['Annual_Revenue'].clip(lower=20000)\n",
    "df['CAC'] = df['CAC'].clip(lower=5000)\n",
    "\n",
    "# Preview the dataset\n",
    "df.head()\n"
   ]
  },
  {
   "cell_type": "code",
   "execution_count": null,
   "id": "c4b38689-cc15-43df-9940-8bb0fb1f174e",
   "metadata": {},
   "outputs": [],
   "source": [
    "## 🔍 Section 3: Cohort Segmentation & Visualization\n",
    "\n",
    "To understand how different types of customers perform, we’ll segment them into cohorts based on their profile — in this case, by the `Segment` variable (Startup, Enterprise, Government).\n",
    "\n",
    "We'll visualize differences across cohorts in:\n",
    "\n",
    "- Annual revenue\n",
    "- Gross margin\n",
    "- CAC\n",
    "- Retention\n",
    "\n",
    "This will help us detect early signs of which customer types are most profitable or strategic.\n"
   ]
  },
  {
   "cell_type": "code",
   "execution_count": null,
   "id": "75fdafe8-f4a7-44f9-80b5-2a58ef09548f",
   "metadata": {},
   "outputs": [],
   "source": [
    "# Summary statistics by segment\n",
    "cohort_summary = df.groupby('Segment').agg({\n",
    "    'Annual_Revenue': 'mean',\n",
    "    'Gross_Margin': 'mean',\n",
    "    'CAC': 'mean',\n",
    "    'Retention_Years': 'mean'\n",
    "}).round(2).reset_index()\n",
    "\n",
    "cohort_summary\n"
   ]
  },
  {
   "cell_type": "code",
   "execution_count": null,
   "id": "56e0ffaf-a983-446d-ba94-1d2c93369e94",
   "metadata": {},
   "outputs": [],
   "source": [
    "fig, axs = plt.subplots(2, 2, figsize=(14, 10))\n",
    "\n",
    "sns.barplot(x='Segment', y='Annual_Revenue', data=df, ax=axs[0, 0])\n",
    "axs[0, 0].set_title('Avg Annual Revenue by Segment')\n",
    "\n",
    "sns.barplot(x='Segment', y='Gross_Margin', data=df, ax=axs[0, 1])\n",
    "axs[0, 1].set_title('Avg Gross Margin by Segment')\n",
    "\n",
    "sns.barplot(x='Segment', y='CAC', data=df, ax=axs[1, 0])\n",
    "axs[1, 0].set_title('Avg CAC by Segment')\n",
    "\n",
    "sns.barplot(x='Segment', y='Retention_Years', data=df, ax=axs[1, 1])\n",
    "axs[1, 1].set_title('Avg Retention (Years) by Segment')\n",
    "\n",
    "plt.tight_layout()\n",
    "plt.show()\n"
   ]
  },
  {
   "cell_type": "code",
   "execution_count": null,
   "id": "74c32c6d-0d45-4aec-8094-17659c93a716",
   "metadata": {},
   "outputs": [],
   "source": [
    "## 💰 Section 4: CLTV Estimation\n",
    "\n",
    "To estimate Customer Lifetime Value (CLTV), we’ll use the following formula:\n",
    "\n",
    "**CLTV = (Annual Revenue × Gross Margin %) × Retention Years**\n",
    "\n",
    "This represents the gross profit generated over the lifetime of the customer. It allows us to compare long-term value across different segments.\n"
   ]
  },
  {
   "cell_type": "code",
   "execution_count": null,
   "id": "23fdf659-4d87-4e5d-849e-3ab178b64277",
   "metadata": {},
   "outputs": [],
   "source": [
    "# Compute CLTV per customer\n",
    "df['CLTV'] = (df['Annual_Revenue'] * df['Gross_Margin']) * df['Retention_Years']\n",
    "df['CLTV'] = df['CLTV'].round(2)\n",
    "\n",
    "# Show a few rows\n",
    "df[['Customer_ID', 'Segment', 'Annual_Revenue', 'Gross_Margin', 'Retention_Years', 'CLTV']].head()\n"
   ]
  },
  {
   "cell_type": "code",
   "execution_count": null,
   "id": "34384a69-4b6e-4b72-bd81-299e192324f9",
   "metadata": {},
   "outputs": [],
   "source": [
    "# Mean CLTV by segment\n",
    "cltv_summary = df.groupby('Segment')['CLTV'].mean().round(2).reset_index()\n",
    "\n",
    "# Plot\n",
    "plt.figure(figsize=(8, 5))\n",
    "sns.barplot(x='Segment', y='CLTV', data=cltv_summary)\n",
    "plt.title('Average CLTV by Segment')\n",
    "plt.ylabel('Customer Lifetime Value ($)')\n",
    "plt.show()\n"
   ]
  },
  {
   "cell_type": "code",
   "execution_count": null,
   "id": "23425367-407c-411e-b07b-1bd2e414a563",
   "metadata": {},
   "outputs": [],
   "source": [
    "## ⚖️ Section 5: CAC & CLTV:CAC Ratio Analysis\n",
    "\n",
    "To assess the efficiency of Cohere's customer acquisition strategy, we calculate the **CLTV:CAC ratio**.\n",
    "\n",
    "- A ratio > 3.0 is typically considered strong\n",
    "- A ratio < 1.0 suggests unsustainable customer acquisition\n",
    "\n",
    "We'll compute this ratio per customer and evaluate it across cohorts to identify which segments are most efficient to acquire.\n"
   ]
  },
  {
   "cell_type": "code",
   "execution_count": null,
   "id": "a8d4e19d-074f-4e06-9cd9-b8a5cf4cd64c",
   "metadata": {},
   "outputs": [],
   "source": [
    "# Compute CLTV:CAC ratio\n",
    "df['CLTV_CAC_Ratio'] = (df['CLTV'] / df['CAC']).round(2)\n",
    "\n",
    "# View top 5 customers\n",
    "df[['Customer_ID', 'Segment', 'CLTV', 'CAC', 'CLTV_CAC_Ratio']].head()\n"
   ]
  },
  {
   "cell_type": "code",
   "execution_count": null,
   "id": "ce162194-5dba-434a-a79b-6cd9071bddce",
   "metadata": {},
   "outputs": [],
   "source": [
    "plt.figure(figsize=(8, 5))\n",
    "sns.barplot(x='Segment', y='CLTV_CAC_Ratio', data=df)\n",
    "plt.title('Avg CLTV:CAC Ratio by Segment')\n",
    "plt.ylabel('CLTV to CAC Ratio')\n",
    "plt.show()\n"
   ]
  }
 ],
 "metadata": {
  "kernelspec": {
   "display_name": "Python 3 (ipykernel)",
   "language": "python",
   "name": "python3"
  },
  "language_info": {
   "codemirror_mode": {
    "name": "ipython",
    "version": 3
   },
   "file_extension": ".py",
   "mimetype": "text/x-python",
   "name": "python",
   "nbconvert_exporter": "python",
   "pygments_lexer": "ipython3",
   "version": "3.11.9"
  }
 },
 "nbformat": 4,
 "nbformat_minor": 5
}
