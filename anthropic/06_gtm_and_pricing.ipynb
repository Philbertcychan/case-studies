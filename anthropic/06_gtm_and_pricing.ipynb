{
 "cells": [
  {
   "cell_type": "markdown",
   "id": "8023efc6-1e9f-46db-8ab1-ff109291d51d",
   "metadata": {},
   "source": [
    "# GTM Strategy & Pricing Analysis\n",
    "\n",
    "In this notebook, we break down Anthropic’s go-to-market (GTM) strategy, pricing structure, and key motions across customer segments.\n",
    "\n",
    "---\n",
    "\n",
    "## 1. Claude GTM Breakdown\n",
    "\n",
    "Claude serves 3 primary GTM motions:\n",
    "\n",
    "1. **API-first Platform Sales**\n",
    "   - Self-serve for developers via console.anthropic.com\n",
    "   - Integration partners (e.g., AWS Bedrock, Google Vertex)\n",
    "   - Open pricing structure with usage tiers\n",
    "\n",
    "2. **Enterprise Direct Sales**\n",
    "   - Dedicated reps for strategic accounts\n",
    "   - Emphasis on Claude’s safety guarantees, auditability\n",
    "   - Competes directly with OpenAI’s ChatGPT Enterprise, Gemini for Workspace\n",
    "\n",
    "3. **Consumer Interface**\n",
    "   - claude.ai free and Pro tiers\n",
    "   - Competes with ChatGPT, Perplexity, Pi\n",
    "   - Pricing reflects full-stack infra cost (context + generation)\n",
    "\n",
    "---\n",
    "\n",
    "## 2. Pricing Model Simulation\n",
    "\n",
    "Let’s model how pricing scales with usage for Claude 3 Opus.\n",
    "\n",
    "Claude 3 Opus pricing (May 2024):\n",
    "- **$30 per million input tokens**\n",
    "- **$60 per million output tokens**\n",
    "\n"
   ]
  },
  {
   "cell_type": "code",
   "execution_count": 1,
   "id": "2b45578c-e02c-45e4-bc50-a9679ddfbb1a",
   "metadata": {},
   "outputs": [
    {
     "name": "stdout",
     "output_type": "stream",
     "text": [
      "Input cost:  $150.00\n",
      "Output cost: $120.00\n",
      "Total:       $270.00\n"
     ]
    },
    {
     "data": {
      "text/plain": [
       "270"
      ]
     },
     "execution_count": 1,
     "metadata": {},
     "output_type": "execute_result"
    }
   ],
   "source": [
    "def estimate_claude_cost(input_tokens_m, output_tokens_m):\n",
    "    input_cost = input_tokens_m * 30\n",
    "    output_cost = output_tokens_m * 60\n",
    "    total = input_cost + output_cost\n",
    "    print(f\"Input cost:  ${input_cost:,.2f}\")\n",
    "    print(f\"Output cost: ${output_cost:,.2f}\")\n",
    "    print(f\"Total:       ${total:,.2f}\")\n",
    "    return total\n",
    "\n",
    "# Example usage\n",
    "estimate_claude_cost(5, 2)  # 5M input tokens, 2M output tokens\n"
   ]
  },
  {
   "cell_type": "markdown",
   "id": "1ece31ae-9743-4c62-a791-98386438a561",
   "metadata": {},
   "source": [
    "### 3. Competitive Pricing Comparison (per 1M tokens)\n",
    "\n",
    "| Model            | Input Price      | Output Price     | Context Window  |\n",
    "|------------------|------------------|------------------|-----------------|\n",
    "| Claude 3 Opus    | \\$30             | \\$60             | 200K tokens     |\n",
    "| GPT-4o           | \\$5              | \\$15             | 128K tokens     |\n",
    "| Gemini 1.5 Pro   | ~\\$3.50          | ~\\$10            | 1M tokens       |\n",
    "| Mistral (open)   | Free             | Free             | –               |\n",
    "| Command R+       | Free or \\$1–2    | Free or \\$3–5    | 128K tokens     |\n"
   ]
  },
  {
   "cell_type": "code",
   "execution_count": null,
   "id": "610a989a-e61a-4b98-bf02-533ebd9f4be3",
   "metadata": {},
   "outputs": [],
   "source": []
  }
 ],
 "metadata": {
  "kernelspec": {
   "display_name": "Python 3 (ipykernel)",
   "language": "python",
   "name": "python3"
  },
  "language_info": {
   "codemirror_mode": {
    "name": "ipython",
    "version": 3
   },
   "file_extension": ".py",
   "mimetype": "text/x-python",
   "name": "python",
   "nbconvert_exporter": "python",
   "pygments_lexer": "ipython3",
   "version": "3.11.9"
  }
 },
 "nbformat": 4,
 "nbformat_minor": 5
}
