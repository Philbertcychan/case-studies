{
 "cells": [
  {
   "cell_type": "markdown",
   "metadata": {},
   "source": [
    "# 📦 Product Tiering Strategy for Cohere\n",
    "\n",
    "In this notebook, we analyze Cohere's current pricing and product tiering and propose a new, optimized structure based on market benchmarks and hypothetical revenue simulations."
   ]
  },
  {
   "cell_type": "markdown",
   "metadata": {},
   "source": [
    "## 🔍 Current Landscape Benchmark\n",
    "\n",
    "We begin by benchmarking pricing strategies and product tiering from leading LLM providers.\n",
    "\n",
    "| Company   | Pricing Models                                 |\n",
    "|-----------|------------------------------------------------|\n",
    "| OpenAI    | Free + GPT-4-turbo tiers + API per token      |\n",
    "| Anthropic | Subscription + Claude API pricing             |\n",
    "| Mistral   | Open weights + paid hosted APIs               |\n",
    "| Google    | Vertex AI token-based pricing                 |\n",
    "| AWS       | Pay-as-you-go via Bedrock                     |"
   ]
  },
  {
   "cell_type": "markdown",
   "metadata": {},
   "source": [
    "## 👥 Segmenting Cohere’s User Base\n",
    "\n",
    "We define customer segments based on token usage and business profile:\n",
    "\n",
    "| Segment             | Monthly Usage     | Willingness to Pay | Needs                          |\n",
    "|---------------------|-------------------|--------------------|---------------------------------|\n",
    "| Indie Developers    | <5M tokens        | Low                | Basic API Access               |\n",
    "| Startups            | 5–50M tokens      | Medium             | API + Evaluation Environment   |\n",
    "| Growth Companies    | 50–200M tokens    | High               | Finetuning + Dedicated Support |\n",
    "| Enterprises         | 200M+ tokens      | Very High          | Custom SLAs + Deployment Flexibility |"
   ]
  },
  {
   "cell_type": "markdown",
   "metadata": {},
   "source": [
    "## 🧰 Proposed Tier Structure\n",
    "\n",
    "| Tier Name  | Target Segment     | Token Cap | Price (USD) | Key Features                          |\n",
    "|------------|--------------------|-----------|-------------|----------------------------------------|\n",
    "| Starter    | Indie Devs         | 5M        | $10         | Basic API, no SLAs                     |\n",
    "| Growth     | Startups           | 50M       | $250        | Full models, sandbox env               |\n",
    "| Pro        | Growth Cos         | 200M      | $800        | Finetuning, analytics, support         |\n",
    "| Enterprise | Large Scale Clients| Custom    | Negotiated  | Custom SLAs, deployment options        |"
   ]
  },
  {
   "cell_type": "code",
   "execution_count": null,
   "metadata": {},
   "outputs": [],
   "source": [
    "import pandas as pd\n",
    "\n",
    "# Hypothetical Customer Segments\n",
    "customers = {\n",
    "    \"Starter\": 5000,\n",
    "    \"Growth\": 1200,\n",
    "    \"Pro\": 300,\n",
    "    \"Enterprise\": 50\n",
    "}\n",
    "\n",
    "# Pricing in USD\n",
    "pricing = {\n",
    "    \"Starter\": 10,\n",
    "    \"Growth\": 250,\n",
    "    \"Pro\": 800,\n",
    "    \"Enterprise\": 5000\n",
    "}\n",
    "\n",
    "df = pd.DataFrame(list(customers.items()), columns=[\"Tier\", \"Num_Customers\"])\n",
    "df[\"Price\"] = df[\"Tier\"].map(pricing)\n",
    "df[\"Monthly_Revenue\"] = df[\"Num_Customers\"] * df[\"Price\"]\n",
    "df[\"Annual_Revenue\"] = df[\"Monthly_Revenue\"] * 12\n",
    "\n",
    "df"
   ]
  },
  {
   "cell_type": "code",
   "execution_count": null,
   "metadata": {},
   "outputs": [],
   "source": [
    "import matplotlib.pyplot as plt\n",
    "\n",
    "plt.figure(figsize=(10, 5))\n",
    "plt.bar(df['Tier'], df['Annual_Revenue'], color='skyblue')\n",
    "plt.title('Annual Revenue by Tier')\n",
    "plt.xlabel('Tier')\n",
    "plt.ylabel('Annual Revenue (USD)')\n",
    "plt.grid(True)\n",
    "plt.tight_layout()\n",
    "plt.savefig('../report/graphics/tiering_revenue.png')\n",
    "plt.show()"
   ]
  },
  {
   "cell_type": "markdown",
   "metadata": {},
   "source": [
    "## 📝 Summary of Strategy\n",
    "\n",
    "This tiering strategy is designed to:\n",
    "- Capture more developer mindshare with a generous but monetized entry point.\n",
    "- Create clear upgrade paths as projects grow in complexity and usage.\n",
    "- Unlock high-margin enterprise deals with flexible SLAs and deployment options.\n",
    "\n",
    "It balances accessibility, growth, and monetization potential — making Cohere’s offerings easier to evaluate and adopt at every scale."
   ]
  }
 ],
 "metadata": {
  "kernelspec": {
   "display_name": "Python 3",
   "language": "python",
   "name": "python3"
  },
  "language_info": {
   "name": "python",
   "version": "3.11.9"
  }
 },
 "nbformat": 4,
 "nbformat_minor": 2
}
