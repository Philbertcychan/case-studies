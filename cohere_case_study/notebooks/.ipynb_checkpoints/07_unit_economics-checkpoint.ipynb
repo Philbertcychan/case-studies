{
 "cells": [
  {
   "cell_type": "markdown",
   "id": "226157c3",
   "metadata": {},
   "source": [
    "# 📊 Unit Economics Deep Dive: Cohere\n",
    "\n",
    "In this module, we simulate Cohere’s unit economics by estimating key cost drivers (compute, support, infra) and revenue models (token pricing, customer cohorts). This helps assess gross margins, customer profitability, and break-even dynamics.\n",
    "\n",
    "---\n",
    "\n",
    "## 1. 🎯 Objective\n",
    "\n",
    "- Estimate **cost per 1M tokens** served\n",
    "- Model **customer-level profitability**\n",
    "- Simulate **Cohere's financial scalability**\n"
   ]
  },
  {
   "cell_type": "code",
   "execution_count": 1,
   "id": "96317912",
   "metadata": {},
   "outputs": [],
   "source": [
    "import numpy as np\n",
    "import pandas as pd\n",
    "import matplotlib.pyplot as plt\n",
    "import seaborn as sns\n",
    "\n",
    "sns.set(style='whitegrid')\n"
   ]
  },
  {
   "cell_type": "markdown",
   "id": "01edce86",
   "metadata": {},
   "source": [
    "## 2. 🧮 Assumptions\n",
    "Based on industry benchmarks (e.g. public info from OpenAI, Hugging Face, Anthropic), we use the following:\n",
    "\n",
    "| Component           | Assumption                                 |\n",
    "|---------------------|--------------------------------------------|\n",
    "| Inference Cost      | $0.001 per 1K tokens (for LLMs like Command R+) |\n",
    "| Fine-Tuning Cost    | $1.50 per 1K tokens                         |\n",
    "| Support Overhead    | $200 per paying customer / month           |\n",
    "| Revenue per Token   | $0.002 per 1K tokens (standard pricing)    |\n",
    "| CAC                 | $400 (avg cost to acquire a customer)      |\n",
    "| Monthly Churn       | 5% for SMBs, 2% for Enterprises             |\n"
   ]
  },
  {
   "cell_type": "code",
   "execution_count": 2,
   "id": "f0f4ae5a",
   "metadata": {},
   "outputs": [],
   "source": [
    "# All costs in USD\n",
    "assumptions = {\n",
    "    'inference_cost_per_1k_tokens': 0.001,\n",
    "    'fine_tune_cost_per_1k_tokens': 1.5,\n",
    "    'revenue_per_1k_tokens': 0.002,\n",
    "    'support_cost_per_customer': 200,\n",
    "    'customer_acquisition_cost': 400,\n",
    "}\n"
   ]
  },
  {
   "cell_type": "markdown",
   "id": "d6f292ee",
   "metadata": {},
   "source": [
    "## 3. 📦 Customer Cohorts\n",
    "\n",
    "We model 3 customer types: Indie, SMB, and Enterprise.\n",
    "Each cohort varies by usage, support, and retention.\n",
    "\n",
    "| Cohort     | Monthly Token Use | Fine-Tune Tokens | Monthly Payment | Churn | Count |\n",
    "|------------|-------------------|------------------|------------------|-------|-------|\n",
    "| Indie      | 500K              | 0                | $0 (free tier)   | 10%   | 1000  |\n",
    "| SMB        | 10M               | 50K              | $1,500           | 5%    | 200   |\n",
    "| Enterprise | 100M              | 500K             | $25,000          | 2%    | 20    |\n"
   ]
  },
  {
   "cell_type": "code",
   "execution_count": 3,
   "id": "6688fa08",
   "metadata": {},
   "outputs": [
    {
     "data": {
      "text/html": [
       "<div>\n",
       "<style scoped>\n",
       "    .dataframe tbody tr th:only-of-type {\n",
       "        vertical-align: middle;\n",
       "    }\n",
       "\n",
       "    .dataframe tbody tr th {\n",
       "        vertical-align: top;\n",
       "    }\n",
       "\n",
       "    .dataframe thead th {\n",
       "        text-align: right;\n",
       "    }\n",
       "</style>\n",
       "<table border=\"1\" class=\"dataframe\">\n",
       "  <thead>\n",
       "    <tr style=\"text-align: right;\">\n",
       "      <th></th>\n",
       "      <th>name</th>\n",
       "      <th>monthly_tokens</th>\n",
       "      <th>fine_tune_tokens</th>\n",
       "      <th>payment</th>\n",
       "      <th>churn</th>\n",
       "      <th>count</th>\n",
       "    </tr>\n",
       "  </thead>\n",
       "  <tbody>\n",
       "    <tr>\n",
       "      <th>0</th>\n",
       "      <td>Indie</td>\n",
       "      <td>500000</td>\n",
       "      <td>0</td>\n",
       "      <td>0</td>\n",
       "      <td>0.10</td>\n",
       "      <td>1000</td>\n",
       "    </tr>\n",
       "    <tr>\n",
       "      <th>1</th>\n",
       "      <td>SMB</td>\n",
       "      <td>10000000</td>\n",
       "      <td>50000</td>\n",
       "      <td>1500</td>\n",
       "      <td>0.05</td>\n",
       "      <td>200</td>\n",
       "    </tr>\n",
       "    <tr>\n",
       "      <th>2</th>\n",
       "      <td>Enterprise</td>\n",
       "      <td>100000000</td>\n",
       "      <td>500000</td>\n",
       "      <td>25000</td>\n",
       "      <td>0.02</td>\n",
       "      <td>20</td>\n",
       "    </tr>\n",
       "  </tbody>\n",
       "</table>\n",
       "</div>"
      ],
      "text/plain": [
       "         name  monthly_tokens  fine_tune_tokens  payment  churn  count\n",
       "0       Indie          500000                 0        0   0.10   1000\n",
       "1         SMB        10000000             50000     1500   0.05    200\n",
       "2  Enterprise       100000000            500000    25000   0.02     20"
      ]
     },
     "execution_count": 3,
     "metadata": {},
     "output_type": "execute_result"
    }
   ],
   "source": [
    "cohorts = pd.DataFrame([\n",
    "    {'name': 'Indie', 'monthly_tokens': 500_000, 'fine_tune_tokens': 0, 'payment': 0, 'churn': 0.10, 'count': 1000},\n",
    "    {'name': 'SMB', 'monthly_tokens': 10_000_000, 'fine_tune_tokens': 50_000, 'payment': 1500, 'churn': 0.05, 'count': 200},\n",
    "    {'name': 'Enterprise', 'monthly_tokens': 100_000_000, 'fine_tune_tokens': 500_000, 'payment': 25000, 'churn': 0.02, 'count': 20},\n",
    "])\n",
    "\n",
    "cohorts\n"
   ]
  },
  {
   "cell_type": "code",
   "execution_count": 4,
   "id": "9ad270f5",
   "metadata": {},
   "outputs": [
    {
     "data": {
      "text/html": [
       "<div>\n",
       "<style scoped>\n",
       "    .dataframe tbody tr th:only-of-type {\n",
       "        vertical-align: middle;\n",
       "    }\n",
       "\n",
       "    .dataframe tbody tr th {\n",
       "        vertical-align: top;\n",
       "    }\n",
       "\n",
       "    .dataframe thead th {\n",
       "        text-align: right;\n",
       "    }\n",
       "</style>\n",
       "<table border=\"1\" class=\"dataframe\">\n",
       "  <thead>\n",
       "    <tr style=\"text-align: right;\">\n",
       "      <th></th>\n",
       "      <th>name</th>\n",
       "      <th>monthly_tokens</th>\n",
       "      <th>fine_tune_tokens</th>\n",
       "      <th>payment</th>\n",
       "      <th>churn</th>\n",
       "      <th>count</th>\n",
       "      <th>total_cost</th>\n",
       "      <th>margin</th>\n",
       "      <th>gross_margin_pct</th>\n",
       "    </tr>\n",
       "  </thead>\n",
       "  <tbody>\n",
       "    <tr>\n",
       "      <th>0</th>\n",
       "      <td>Indie</td>\n",
       "      <td>500000</td>\n",
       "      <td>0</td>\n",
       "      <td>0</td>\n",
       "      <td>0.10</td>\n",
       "      <td>1000</td>\n",
       "      <td>200.5</td>\n",
       "      <td>-200.5</td>\n",
       "      <td>0.0</td>\n",
       "    </tr>\n",
       "    <tr>\n",
       "      <th>1</th>\n",
       "      <td>SMB</td>\n",
       "      <td>10000000</td>\n",
       "      <td>50000</td>\n",
       "      <td>1500</td>\n",
       "      <td>0.05</td>\n",
       "      <td>200</td>\n",
       "      <td>285.0</td>\n",
       "      <td>1215.0</td>\n",
       "      <td>81.0</td>\n",
       "    </tr>\n",
       "    <tr>\n",
       "      <th>2</th>\n",
       "      <td>Enterprise</td>\n",
       "      <td>100000000</td>\n",
       "      <td>500000</td>\n",
       "      <td>25000</td>\n",
       "      <td>0.02</td>\n",
       "      <td>20</td>\n",
       "      <td>1050.0</td>\n",
       "      <td>23950.0</td>\n",
       "      <td>95.8</td>\n",
       "    </tr>\n",
       "  </tbody>\n",
       "</table>\n",
       "</div>"
      ],
      "text/plain": [
       "         name  monthly_tokens  fine_tune_tokens  payment  churn  count  \\\n",
       "0       Indie          500000                 0        0   0.10   1000   \n",
       "1         SMB        10000000             50000     1500   0.05    200   \n",
       "2  Enterprise       100000000            500000    25000   0.02     20   \n",
       "\n",
       "   total_cost   margin  gross_margin_pct  \n",
       "0       200.5   -200.5               0.0  \n",
       "1       285.0   1215.0              81.0  \n",
       "2      1050.0  23950.0              95.8  "
      ]
     },
     "execution_count": 4,
     "metadata": {},
     "output_type": "execute_result"
    }
   ],
   "source": [
    "def calculate_unit_economics(row):\n",
    "    token_cost = (row['monthly_tokens'] / 1000) * assumptions['inference_cost_per_1k_tokens']\n",
    "    fine_tune_cost = (row['fine_tune_tokens'] / 1000) * assumptions['fine_tune_cost_per_1k_tokens']\n",
    "    support_cost = assumptions['support_cost_per_customer']\n",
    "    total_cost = token_cost + fine_tune_cost + support_cost\n",
    "\n",
    "    margin = row['payment'] - total_cost\n",
    "    gross_margin_pct = (margin / row['payment']) * 100 if row['payment'] > 0 else 0\n",
    "\n",
    "    return pd.Series({\n",
    "        'total_cost': total_cost,\n",
    "        'margin': margin,\n",
    "        'gross_margin_pct': gross_margin_pct\n",
    "    })\n",
    "\n",
    "cohorts = cohorts.join(cohorts.apply(calculate_unit_economics, axis=1))\n",
    "cohorts\n"
   ]
  },
  {
   "cell_type": "markdown",
   "id": "1f1ac551",
   "metadata": {},
   "source": [
    "## 4. 📈 Profitability Visualization\n",
    "Visualize margin across cohorts.\n"
   ]
  },
  {
   "cell_type": "code",
   "execution_count": 5,
   "id": "d07298b9",
   "metadata": {},
   "outputs": [
    {
     "name": "stderr",
     "output_type": "stream",
     "text": [
      "C:\\Users\\philb\\AppData\\Local\\Temp\\ipykernel_30304\\853865611.py:2: FutureWarning: \n",
      "\n",
      "Passing `palette` without assigning `hue` is deprecated and will be removed in v0.14.0. Assign the `x` variable to `hue` and set `legend=False` for the same effect.\n",
      "\n",
      "  sns.barplot(data=cohorts, x='name', y='gross_margin_pct', palette='Blues_d')\n"
     ]
    },
    {
     "data": {
      "image/png": "[encoded data removed]",
      "text/plain": [
       "<Figure size 800x500 with 1 Axes>"
      ]
     },
     "metadata": {},
     "output_type": "display_data"
    }
   ],
   "source": [
    "plt.figure(figsize=(8,5))\n",
    "sns.barplot(data=cohorts, x='name', y='gross_margin_pct', palette='Blues_d')\n",
    "plt.title(\"Gross Margin % by Customer Cohort\")\n",
    "plt.ylabel(\"Gross Margin (%)\")\n",
    "plt.xlabel(\"Cohort\")\n",
    "plt.ylim(0, 100)\n",
    "plt.show()\n"
   ]
  },
  {
   "cell_type": "markdown",
   "id": "d1848598",
   "metadata": {},
   "source": [
    "## 5. 📉 Break-Even Analysis\n",
    "\n",
    "Estimate break-even point (in customers) for Cohere if average CAC is $400 and avg monthly margin is known.\n"
   ]
  },
  {
   "cell_type": "code",
   "execution_count": 6,
   "id": "1cfbf53a",
   "metadata": {},
   "outputs": [
    {
     "name": "stdout",
     "output_type": "stream",
     "text": [
      "Break-even point: 0.0 paying customers (avg across cohorts)\n"
     ]
    }
   ],
   "source": [
    "avg_monthly_margin = cohorts['margin'].mean()\n",
    "breakeven_customers = assumptions['customer_acquisition_cost'] / avg_monthly_margin\n",
    "\n",
    "print(f\"Break-even point: {breakeven_customers:.1f} paying customers (avg across cohorts)\")\n"
   ]
  },
  {
   "cell_type": "markdown",
   "id": "0bc46e51",
   "metadata": {},
   "source": [
    "## 6. 🎯 Strategic Takeaways\n",
    "\n",
    "- Indie users are negative margin but essential for brand + developer adoption.\n",
    "- SMBs show solid margins and should be a scaling priority.\n",
    "- Enterprises dominate margin — likely worth custom onboarding and sales.\n",
    "\n",
    "Cohere should consider:\n",
    "- CAC payback period by segment\n",
    "- Cost reduction through inference optimization\n",
    "- Tiered support cost structures\n"
   ]
  }
 ],
 "metadata": {
  "kernelspec": {
   "display_name": "Python 3 (ipykernel)",
   "language": "python",
   "name": "python3"
  },
  "language_info": {
   "codemirror_mode": {
    "name": "ipython",
    "version": 3
   },
   "file_extension": ".py",
   "mimetype": "text/x-python",
   "name": "python",
   "nbconvert_exporter": "python",
   "pygments_lexer": "ipython3",
   "version": "3.11.9"
  }
 },
 "nbformat": 4,
 "nbformat_minor": 5
}
