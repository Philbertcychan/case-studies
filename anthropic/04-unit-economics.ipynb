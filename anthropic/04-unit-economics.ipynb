{
 "cells": [
  {
   "cell_type": "markdown",
   "id": "5ae0e2a3-4f70-4abd-9404-908146988641",
   "metadata": {},
   "source": [
    "# 04 - Unit Economics and Revenue Modeling\n"
   ]
  },
  {
   "cell_type": "markdown",
   "id": "4ef28cf2-16d4-4b5e-8960-b252a949be37",
   "metadata": {},
   "source": [
    "In this notebook, we estimate Anthropic’s unit economics by modeling:\n",
    "\n",
    "- Revenue per million tokens (API)\n",
    "- Cost per million tokens (inference compute)\n",
    "- Gross margins\n",
    "- Break-even scenarios and LTV:CAC assumptions\n"
   ]
  },
  {
   "cell_type": "markdown",
   "id": "b7dd2d9b-c90e-422e-905e-a14879f10b09",
   "metadata": {},
   "source": [
    "## Assumptions\n",
    "\n",
    "We'll use the following rough assumptions based on public sources:\n",
    "\n",
    "- `Claude 3 Opus API price: $30 per 1M input tokens, $60 per 1M output tokens`\n",
    "- `Average input:output token ratio: 2:1`\n",
    "- `Cost per 1M tokens (AWS/GCP GPU estimate): $6 (input), $12 (output)`\n",
    "- `Average monthly usage per enterprise customer: 100M tokens (input + output)`\n",
    "- `Estimated active customers (2025): 1,000+`"
   ]
  },
  {
   "cell_type": "code",
   "execution_count": 1,
   "id": "558930fc-dae2-4f61-8f73-f17b846747b6",
   "metadata": {},
   "outputs": [
    {
     "name": "stdout",
     "output_type": "stream",
     "text": [
      "Revenue for 3M tokens: $120.00\n",
      "Cost for 3M tokens: $24.00\n",
      "Gross Margin: 80.0%\n"
     ]
    }
   ],
   "source": [
    "# Pricing assumptions\n",
    "price_input_per_million = 30\n",
    "price_output_per_million = 60\n",
    "cost_input_per_million = 6\n",
    "cost_output_per_million = 12\n",
    "\n",
    "# Input/output ratio: assume 2:1 (input-heavy prompts)\n",
    "input_tokens = 2_000_000\n",
    "output_tokens = 1_000_000\n",
    "\n",
    "# Revenue calculation\n",
    "revenue = (input_tokens / 1_000_000) * price_input_per_million + (output_tokens / 1_000_000) * price_output_per_million\n",
    "cost = (input_tokens / 1_000_000) * cost_input_per_million + (output_tokens / 1_000_000) * cost_output_per_million\n",
    "gross_margin = (revenue - cost) / revenue * 100\n",
    "\n",
    "print(f\"Revenue for 3M tokens: ${revenue:.2f}\")\n",
    "print(f\"Cost for 3M tokens: ${cost:.2f}\")\n",
    "print(f\"Gross Margin: {gross_margin:.1f}%\")\n"
   ]
  },
  {
   "cell_type": "markdown",
   "id": "96db7dba-2b67-4df9-b9d9-ea6fe2157d74",
   "metadata": {},
   "source": [
    "### Interpretation\n",
    "\n",
    "At a 2:1 input-output ratio, Anthropic earns roughly:\n",
    "\n",
    "- `$120 in revenue for every 3M tokens`\n",
    "- `$30 in compute costs, implying ~75% gross margins`\n",
    "\n",
    "These are **excellent margins**, assuming Amazon cloud credits last — though they will compress with competition or if price drops.\n"
   ]
  },
  {
   "cell_type": "code",
   "execution_count": 2,
   "id": "4d8065b3-f10f-4872-adf2-0efb30009443",
   "metadata": {},
   "outputs": [
    {
     "name": "stdout",
     "output_type": "stream",
     "text": [
      "Estimated annual revenue (1000 customers): $48.0M\n"
     ]
    }
   ],
   "source": [
    "# Let's model 1,000 customers using 100M tokens/month\n",
    "monthly_revenue_per_customer = ((2/3)*price_input_per_million + (1/3)*price_output_per_million) * 100\n",
    "annual_revenue = monthly_revenue_per_customer * 12 * 1000\n",
    "\n",
    "print(f\"Estimated annual revenue (1000 customers): ${annual_revenue/1e6:.1f}M\")\n"
   ]
  },
  {
   "cell_type": "markdown",
   "id": "711c8a9c-df3a-4689-a3b2-7174b1a605c3",
   "metadata": {},
   "source": [
    "## Sensitivity Analysis\n",
    "\n",
    "Revenue grows linearly with tokens used and customer count.\n",
    "\n",
    "Margins could be pressured by:\n",
    "\n",
    "- Falling API prices (competition)\n",
    "- Higher GPU costs or model complexity\n",
    "- Shifts to open-source models (LLaMA, Mistral)\n",
    "\n",
    "Upside levers:\n",
    "\n",
    "- Increased token usage per client (enterprise workflows)\n",
    "- Premium models (Claude 3.5, 4?)\n",
    "- Self-hosting licensing deals\n"
   ]
  }
 ],
 "metadata": {
  "kernelspec": {
   "display_name": "Python 3 (ipykernel)",
   "language": "python",
   "name": "python3"
  },
  "language_info": {
   "codemirror_mode": {
    "name": "ipython",
    "version": 3
   },
   "file_extension": ".py",
   "mimetype": "text/x-python",
   "name": "python",
   "nbconvert_exporter": "python",
   "pygments_lexer": "ipython3",
   "version": "3.11.9"
  }
 },
 "nbformat": 4,
 "nbformat_minor": 5
}
