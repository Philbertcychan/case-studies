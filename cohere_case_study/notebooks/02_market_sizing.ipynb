{
 "cells": [
  {
   "cell_type": "markdown",
   "id": "a110c6e0",
   "metadata": {},
   "source": [
    "Assumptions:\n",
    "The market sizes are based on projections and are subject to change.\n",
    "CAGR calculations are based on the provided 2023 and 2032 values.\n",
    "\n",
    "Sources:\n",
    "Global AI Infrastructure Market: fortunebusinessinsights.com\n",
    "Canada AI Market: datacuberesearch.com"
   ]
  },
  {
   "cell_type": "code",
   "execution_count": null,
   "id": "6b340d55",
   "metadata": {},
   "outputs": [],
   "source": [
    "import pandas as pd\n",
    "import matplotlib.pyplot as plt\n",
    "\n",
    "# Global AI Infrastructure Market Data\n",
    "global_market = {\n",
    "    'Year': [2023, 2032],\n",
    "    'Market Size (USD Billion)': [36.59, 356.14]\n",
    "}\n",
    "\n",
    "# Canada AI Market Data\n",
    "canada_market = {\n",
    "    'Year': [2023, 2032],\n",
    "    'Market Size (USD Billion)': [4.21, 36.75]\n",
    "}\n",
    "\n",
    "# Create DataFrames\n",
    "df_global = pd.DataFrame(global_market)\n",
    "df_canada = pd.DataFrame(canada_market)\n",
    "\n",
    "# Display DataFrames\n",
    "print(\"Global AI Infrastructure Market:\")\n",
    "display(df_global)\n",
    "\n",
    "print(\"Canada AI Market:\")\n",
    "display(df_canada)\n"
   ]
  },
  {
   "cell_type": "code",
   "execution_count": null,
   "id": "231d1cc1",
   "metadata": {},
   "outputs": [],
   "source": [
    "# Plot Global Market Growth\n",
    "plt.figure(figsize=(10, 5))\n",
    "plt.plot(df_global['Year'], df_global['Market Size (USD Billion)'], marker='o', label='Global')\n",
    "plt.plot(df_canada['Year'], df_canada['Market Size (USD Billion)'], marker='o', label='Canada')\n",
    "plt.title('AI Infrastructure Market Growth: Global vs Canada')\n",
    "plt.xlabel('Year')\n",
    "plt.ylabel('Market Size (USD Billion)')\n",
    "plt.legend()\n",
    "plt.grid(True)\n",
    "plt.tight_layout()\n",
    "plt.savefig('../report/graphics/market_growth.png', dpi=300)\n",
    "plt.show()\n"
   ]
  }
 ],
 "metadata": {
  "language_info": {
   "name": "python"
  }
 },
 "nbformat": 4,
 "nbformat_minor": 5
}
